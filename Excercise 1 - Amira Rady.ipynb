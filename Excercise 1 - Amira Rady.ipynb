{
 "cells": [
  {
   "cell_type": "code",
   "execution_count": 1,
   "id": "f78fe599",
   "metadata": {},
   "outputs": [
    {
     "name": "stdout",
     "output_type": "stream",
     "text": [
      "\ta\tb\tc\n"
     ]
    }
   ],
   "source": [
    "print(\"\\ta\\tb\\tc\")\n"
   ]
  },
  {
   "cell_type": "code",
   "execution_count": 2,
   "id": "c402b635",
   "metadata": {},
   "outputs": [
    {
     "name": "stdout",
     "output_type": "stream",
     "text": [
      "\\\\\n"
     ]
    }
   ],
   "source": [
    "print(\"\\\\\\\\\")"
   ]
  },
  {
   "cell_type": "code",
   "execution_count": 3,
   "id": "4d2b8f65",
   "metadata": {},
   "outputs": [
    {
     "name": "stdout",
     "output_type": "stream",
     "text": [
      "'\n"
     ]
    }
   ],
   "source": [
    "print(\"'\")"
   ]
  },
  {
   "cell_type": "code",
   "execution_count": 4,
   "id": "cd5f11e3",
   "metadata": {},
   "outputs": [
    {
     "name": "stdout",
     "output_type": "stream",
     "text": [
      "\"\"\"\n"
     ]
    }
   ],
   "source": [
    "print(\"\\\"\\\"\\\"\")"
   ]
  },
  {
   "cell_type": "code",
   "execution_count": 5,
   "id": "4fef88e0",
   "metadata": {},
   "outputs": [
    {
     "name": "stdout",
     "output_type": "stream",
     "text": [
      "C:\n",
      "in\the downward spiral\n"
     ]
    }
   ],
   "source": [
    "print(\"C:\\nin\\the downward spiral\")"
   ]
  },
  {
   "cell_type": "code",
   "execution_count": 13,
   "id": "ff82736c",
   "metadata": {},
   "outputs": [
    {
     "name": "stdout",
     "output_type": "stream",
     "text": [
      "\u0007\b\n"
     ]
    }
   ],
   "source": [
    "print(\"\\a\\b\")"
   ]
  },
  {
   "cell_type": "markdown",
   "id": "3a29c1e2",
   "metadata": {},
   "source": [
    "# 2.\tWrite a print statement to produce this output:\n",
    "/ \\ // \\\\ /// \\\\\\"
   ]
  },
  {
   "cell_type": "code",
   "execution_count": 19,
   "id": "2af9aab2",
   "metadata": {},
   "outputs": [
    {
     "name": "stdout",
     "output_type": "stream",
     "text": [
      "/ \\ // \\\\ /// \\\\\\\n"
     ]
    }
   ],
   "source": [
    "print(\"/\"' '\"\\\\\"' '\"//\" ' ' \"\\\\\\\\\"' '\"///\" ' '\"\\\\\\\\\\\\\")"
   ]
  },
  {
   "cell_type": "markdown",
   "id": "75c975ea",
   "metadata": {},
   "source": [
    "# 3.\tWhat print statements will generate this output?\n",
    "\n",
    "This quote is from Irish poet Oscar Wilde\n",
    "\n",
    "\"Music makes one feel so romantic\n",
    "\n",
    "- at least it always gets on one's nerves – which is the same thing nowadays.\"\n"
   ]
  },
  {
   "cell_type": "code",
   "execution_count": 49,
   "id": "5b136570",
   "metadata": {},
   "outputs": [
    {
     "name": "stdout",
     "output_type": "stream",
     "text": [
      "This quote is from Irish poet Oscar Wilde:\n",
      "\n",
      "\"Music makes one feel so romantic\n",
      "\n",
      "- at least it always gets on one's nerves - \n",
      "\n",
      "which is the same thing nowadays.\"\n"
     ]
    }
   ],
   "source": [
    "print(\"This quote is from Irish poet Oscar Wilde\" \":\" \"\\n\"\"\\n\" \n",
    "      \n",
    "      \"\\\"\"\n",
    "      \n",
    "      \"Music makes one feel so romantic\" \n",
    "      \n",
    "      \"\\n\"\n",
    "      \"\\n\"\n",
    "      \n",
    "      \"-\" ' '\n",
    "      \"at least it always gets on one's nerves\" ' ' \"-\" ' ' \n",
    "      \"\\n\"\n",
    "      \"\\n\" \"which is the same thing nowadays\"\".\" \"\\\"\")"
   ]
  },
  {
   "cell_type": "markdown",
   "id": "f9fb0a43",
   "metadata": {},
   "source": [
    "# 4.\tWhat print statements will generate this output?\n"
   ]
  },
  {
   "cell_type": "markdown",
   "id": "da4c1279",
   "metadata": {},
   "source": [
    "A \"quoted\" String is 'much' better if you learn\n",
    "the rules of \"escape sequences.\" Also, \"\" represents an empty String. Don't forget: use \\\" instead of \" ! '' is not the same as \""
   ]
  },
  {
   "cell_type": "code",
   "execution_count": 65,
   "id": "9ae95c20",
   "metadata": {},
   "outputs": [
    {
     "name": "stdout",
     "output_type": "stream",
     "text": [
      "A \"quoted\" String is'much' better if you learn the rules of\" escape sequences.\" Also, \"\" represents an empty String. Don't forget: use \\\" instead of   \"  !  ''  is not the same as\"\n"
     ]
    }
   ],
   "source": [
    "print(\"A\" ' ' \"\\\"\" \"quoted\" \"\\\"\" ' ' \"String is\" \"\\'\"  \"much\" \"\\'\" ' ' \"better if you learn the rules of\" \n",
    "      \n",
    "      \"\\\"\" ' '\"escape sequences.\" \"\\\"\" ' ' \"Also, \" \"\\\"\" \"\\\"\" \" represents an empty String. Don't forget:\" ' ' \"use\" ' '\"\\\\\" \"\\\"\" ' '\n",
    "     \"instead of \" '  ' \"\\\"\" '  ' \"!\" '  ' \"''\" '  ' \"is not the same as\" \"\\\"\"\n",
    "     \n",
    "     )"
   ]
  },
  {
   "cell_type": "markdown",
   "id": "e068cda4",
   "metadata": {},
   "source": [
    "# 5.\tWhat values result from the following expressions?\n",
    "–\t9 / 5\n",
    "–\t695 % 20\n",
    "–\t7 + 6 * 5\n",
    "–\t7 * 6 + 5\n",
    "–\t248 % 100 / 5\n",
    "–\t6 * 3 - 9 / 4\n",
    "–\t(5 - 7) * 4\n",
    "–\t6 + (18 % (17 - 12))\n"
   ]
  },
  {
   "cell_type": "code",
   "execution_count": 67,
   "id": "fbdc34d3",
   "metadata": {},
   "outputs": [
    {
     "data": {
      "text/plain": [
       "1.8"
      ]
     },
     "execution_count": 67,
     "metadata": {},
     "output_type": "execute_result"
    }
   ],
   "source": [
    "9/5"
   ]
  },
  {
   "cell_type": "code",
   "execution_count": 68,
   "id": "348ff9f9",
   "metadata": {},
   "outputs": [
    {
     "data": {
      "text/plain": [
       "34.75"
      ]
     },
     "execution_count": 68,
     "metadata": {},
     "output_type": "execute_result"
    }
   ],
   "source": [
    "695/20"
   ]
  },
  {
   "cell_type": "code",
   "execution_count": 69,
   "id": "a69748d5",
   "metadata": {},
   "outputs": [
    {
     "data": {
      "text/plain": [
       "37"
      ]
     },
     "execution_count": 69,
     "metadata": {},
     "output_type": "execute_result"
    }
   ],
   "source": [
    "7 + 6 * 5"
   ]
  },
  {
   "cell_type": "code",
   "execution_count": 70,
   "id": "65ac4046",
   "metadata": {},
   "outputs": [
    {
     "data": {
      "text/plain": [
       "47"
      ]
     },
     "execution_count": 70,
     "metadata": {},
     "output_type": "execute_result"
    }
   ],
   "source": [
    "7 * 6 + 5"
   ]
  },
  {
   "cell_type": "code",
   "execution_count": 77,
   "id": "7c7dfdc0",
   "metadata": {},
   "outputs": [
    {
     "data": {
      "text/plain": [
       "48"
      ]
     },
     "execution_count": 77,
     "metadata": {},
     "output_type": "execute_result"
    }
   ],
   "source": [
    "248 % 100"
   ]
  },
  {
   "cell_type": "code",
   "execution_count": 76,
   "id": "77f49291",
   "metadata": {},
   "outputs": [
    {
     "data": {
      "text/plain": [
       "15.75"
      ]
     },
     "execution_count": 76,
     "metadata": {},
     "output_type": "execute_result"
    }
   ],
   "source": [
    "6 * 3 - 9 / 4"
   ]
  },
  {
   "cell_type": "code",
   "execution_count": 73,
   "id": "fcb35d6a",
   "metadata": {},
   "outputs": [
    {
     "data": {
      "text/plain": [
       "-8"
      ]
     },
     "execution_count": 73,
     "metadata": {},
     "output_type": "execute_result"
    }
   ],
   "source": [
    "(5 - 7) * 4"
   ]
  },
  {
   "cell_type": "code",
   "execution_count": 74,
   "id": "b187f23e",
   "metadata": {},
   "outputs": [
    {
     "data": {
      "text/plain": [
       "9"
      ]
     },
     "execution_count": 74,
     "metadata": {},
     "output_type": "execute_result"
    }
   ],
   "source": [
    "6 + (18 % (17 - 12))"
   ]
  },
  {
   "cell_type": "code",
   "execution_count": null,
   "id": "8d4bd8e5",
   "metadata": {},
   "outputs": [],
   "source": []
  }
 ],
 "metadata": {
  "kernelspec": {
   "display_name": "Python 3 (ipykernel)",
   "language": "python",
   "name": "python3"
  },
  "language_info": {
   "codemirror_mode": {
    "name": "ipython",
    "version": 3
   },
   "file_extension": ".py",
   "mimetype": "text/x-python",
   "name": "python",
   "nbconvert_exporter": "python",
   "pygments_lexer": "ipython3",
   "version": "3.11.5"
  }
 },
 "nbformat": 4,
 "nbformat_minor": 5
}
