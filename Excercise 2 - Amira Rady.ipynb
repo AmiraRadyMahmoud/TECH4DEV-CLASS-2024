{
 "cells": [
  {
   "cell_type": "markdown",
   "id": "a41c8f20",
   "metadata": {},
   "source": [
    "# Write a program that finds the maximum value of the given list, assuming that the list contains at least one element.\n",
    "Try your program with the following array 2 4 7 4 23 5 1 4 8 9\n"
   ]
  },
  {
   "cell_type": "code",
   "execution_count": 5,
   "id": "67cc45a5",
   "metadata": {},
   "outputs": [
    {
     "data": {
      "text/plain": [
       "23"
      ]
     },
     "execution_count": 5,
     "metadata": {},
     "output_type": "execute_result"
    }
   ],
   "source": [
    "list1 = {2,4,7,4,23,5,1,4,8,9}\n",
    "max(list1)"
   ]
  },
  {
   "cell_type": "markdown",
   "id": "10ab6032",
   "metadata": {},
   "source": [
    "# Write a program that calculates the average value of the given list.\n",
    "Try your program with the following list\n",
    "4\n",
    "7\n",
    "1\n",
    "5\n",
    "11\n",
    "53\n",
    "12\n",
    "46\n",
    "84\n",
    "23"
   ]
  },
  {
   "cell_type": "code",
   "execution_count": 13,
   "id": "5ed9a656",
   "metadata": {},
   "outputs": [
    {
     "data": {
      "text/plain": [
       "24.6"
      ]
     },
     "execution_count": 13,
     "metadata": {},
     "output_type": "execute_result"
    }
   ],
   "source": [
    "list1=[4,7,1,5,11,53,12,46,84,23]\n",
    "import statistics\n",
    "statistics.mean(list1)"
   ]
  },
  {
   "cell_type": "markdown",
   "id": "2b59d2e3",
   "metadata": {},
   "source": [
    "# Write a program that prints the given list of integers in reverse order.\n",
    "Try your program with the following list\n",
    "2\n",
    "6\n",
    "7\n",
    "45\n",
    "23\n",
    "53\n",
    "14\n",
    "45\n",
    "89\n",
    "5\n",
    "4."
   ]
  },
  {
   "cell_type": "code",
   "execution_count": 36,
   "id": "b1bbe849",
   "metadata": {},
   "outputs": [
    {
     "name": "stdout",
     "output_type": "stream",
     "text": [
      "[4, 5, 89, 45, 14, 53, 23, 45, 7, 6, 2]\n"
     ]
    }
   ],
   "source": [
    "list1=[2,6\n",
    ",7\n",
    ",45\n",
    ",23\n",
    ",53\n",
    ",14\n",
    ",45\n",
    ",89\n",
    ",5\n",
    ",4]\n",
    "list1.reverse()\n",
    "print(list1)"
   ]
  },
  {
   "cell_type": "markdown",
   "id": "b7ee8e05",
   "metadata": {},
   "source": [
    "# Write a program that accepts two lists of integers and prints true if each element in the first list is less than the element at the same index in the second list. Your program should print false if the lists are not the same length.\n"
   ]
  },
  {
   "cell_type": "code",
   "execution_count": 66,
   "id": "7dd6889e",
   "metadata": {},
   "outputs": [
    {
     "name": "stdout",
     "output_type": "stream",
     "text": [
      "False\n"
     ]
    }
   ],
   "source": [
    "def check_elements_smaller(list1, list2):\n",
    "    return all(x < y for x, y in zip(list1, list2))\n",
    "\n",
    "# Example usage\n",
    "list1 = [8, 2, 3, 4, 5]\n",
    "list2 = [6, 7, 8, 9, 10]\n",
    "print(check_elements_smaller(list1, list2))  # Output: True\n",
    "\n"
   ]
  },
  {
   "cell_type": "code",
   "execution_count": 69,
   "id": "610f769d",
   "metadata": {},
   "outputs": [
    {
     "ename": "SyntaxError",
     "evalue": "'return' outside function (3178510145.py, line 3)",
     "output_type": "error",
     "traceback": [
      "\u001b[1;36m  Cell \u001b[1;32mIn[69], line 3\u001b[1;36m\u001b[0m\n\u001b[1;33m    return 5 * x\u001b[0m\n\u001b[1;37m    ^\u001b[0m\n\u001b[1;31mSyntaxError\u001b[0m\u001b[1;31m:\u001b[0m 'return' outside function\n"
     ]
    }
   ],
   "source": []
  },
  {
   "cell_type": "code",
   "execution_count": null,
   "id": "650bf47f",
   "metadata": {},
   "outputs": [],
   "source": []
  }
 ],
 "metadata": {
  "kernelspec": {
   "display_name": "Python 3 (ipykernel)",
   "language": "python",
   "name": "python3"
  },
  "language_info": {
   "codemirror_mode": {
    "name": "ipython",
    "version": 3
   },
   "file_extension": ".py",
   "mimetype": "text/x-python",
   "name": "python",
   "nbconvert_exporter": "python",
   "pygments_lexer": "ipython3",
   "version": "3.11.5"
  }
 },
 "nbformat": 4,
 "nbformat_minor": 5
}
